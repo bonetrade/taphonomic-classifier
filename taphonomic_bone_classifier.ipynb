{
  "nbformat": 4,
  "nbformat_minor": 0,
  "metadata": {
    "colab": {
      "name": "taphonomic-bone-classifier",
      "provenance": [],
      "collapsed_sections": [],
      "toc_visible": true,
      "include_colab_link": true
    },
    "kernelspec": {
      "display_name": "Python 3",
      "name": "python3"
    }
  },
  "cells": [
    {
      "cell_type": "markdown",
      "metadata": {
        "id": "view-in-github",
        "colab_type": "text"
      },
      "source": [
        "<a href=\"https://colab.research.google.com/github/bonetrade/taphonomic-classifier/blob/main/taphonomic_bone_classifier.ipynb\" target=\"_parent\"><img src=\"https://colab.research.google.com/assets/colab-badge.svg\" alt=\"Open In Colab\"/></a>"
      ]
    },
    {
      "cell_type": "code",
      "metadata": {
        "colab": {
          "base_uri": "https://localhost:8080/"
        },
        "id": "FnkS-2ZDGbx9",
        "outputId": "792f0682-e908-42d8-b640-cca84ab7e3cc"
      },
      "source": [
        "!git clone https://github.com/o-date/image-classifier.git"
      ],
      "execution_count": 1,
      "outputs": [
        {
          "output_type": "stream",
          "text": [
            "Cloning into 'image-classifier'...\n",
            "remote: Enumerating objects: 122, done.\u001b[K\n",
            "remote: Total 122 (delta 0), reused 0 (delta 0), pack-reused 122\u001b[K\n",
            "Receiving objects: 100% (122/122), 17.90 MiB | 19.82 MiB/s, done.\n",
            "Resolving deltas: 100% (25/25), done.\n"
          ],
          "name": "stdout"
        }
      ]
    },
    {
      "cell_type": "code",
      "metadata": {
        "id": "PpQK38eEIst2"
      },
      "source": [
        "!pip uninstall tensorflow\n",
        "!pip install tensorflow==1.7"
      ],
      "execution_count": null,
      "outputs": []
    },
    {
      "cell_type": "code",
      "metadata": {
        "colab": {
          "base_uri": "https://localhost:8080/"
        },
        "id": "VJj1PcXqGpIz",
        "outputId": "652023f5-aaef-4a8a-bbbe-d6062d460467"
      },
      "source": [
        "%cd image-classifier/"
      ],
      "execution_count": 3,
      "outputs": [
        {
          "output_type": "stream",
          "text": [
            "/content/image-classifier\n"
          ],
          "name": "stdout"
        }
      ]
    },
    {
      "cell_type": "code",
      "metadata": {
        "colab": {
          "base_uri": "https://localhost:8080/"
        },
        "id": "cNyKnUUeHKaL",
        "outputId": "c4544ea1-d045-49db-f11d-41f2dfcc3b0e"
      },
      "source": [
        "from google.colab import drive\n",
        "drive.mount('/content/drive')"
      ],
      "execution_count": 4,
      "outputs": [
        {
          "output_type": "stream",
          "text": [
            "Mounted at /content/drive\n"
          ],
          "name": "stdout"
        }
      ]
    },
    {
      "cell_type": "code",
      "metadata": {
        "id": "G4rQjSFLHS9t"
      },
      "source": [
        "!cp \"/content/drive/MyDrive/Colab Notebooks/taph.zip\" taph.zip"
      ],
      "execution_count": 5,
      "outputs": []
    },
    {
      "cell_type": "code",
      "metadata": {
        "id": "SMmEywd7H0rh"
      },
      "source": [
        "!unzip taph.zip -d taph"
      ],
      "execution_count": null,
      "outputs": []
    },
    {
      "cell_type": "code",
      "metadata": {
        "id": "2i1aWS1dYaKb"
      },
      "source": [
        "#!rm -r taph"
      ],
      "execution_count": null,
      "outputs": []
    },
    {
      "cell_type": "code",
      "metadata": {
        "id": "x85aPksbITEQ",
        "colab": {
          "base_uri": "https://localhost:8080/"
        },
        "outputId": "9d735c09-64ba-4527-97e2-0ca524607a13"
      },
      "source": [
        "!python -m scripts.retrain \\\n",
        "  --bottleneck_dir=taph/bottlenecks \\\n",
        "  --how_many_training_steps=500 \\\n",
        "  --model_dir=taph/models/ \\\n",
        "  --summaries_dir=taph/training_summaries/mobilenet_0.50_224 \\\n",
        "  --output_graph=taph/retrained_graph.pb \\\n",
        "  --output_labels=taph/retrained_labels.txt \\\n",
        "  --architecture mobilenet_0.50_224 \\\n",
        "  --validation_batch_size=-1 \\\n",
        "  --image_dir=taph/taph"
      ],
      "execution_count": 9,
      "outputs": [
        {
          "output_type": "stream",
          "text": [
            "/usr/local/lib/python3.6/dist-packages/tensorflow/python/framework/dtypes.py:517: FutureWarning: Passing (type, 1) or '1type' as a synonym of type is deprecated; in a future version of numpy, it will be understood as (type, (1,)) / '(1,)type'.\n",
            "  _np_qint8 = np.dtype([(\"qint8\", np.int8, 1)])\n",
            "/usr/local/lib/python3.6/dist-packages/tensorflow/python/framework/dtypes.py:518: FutureWarning: Passing (type, 1) or '1type' as a synonym of type is deprecated; in a future version of numpy, it will be understood as (type, (1,)) / '(1,)type'.\n",
            "  _np_quint8 = np.dtype([(\"quint8\", np.uint8, 1)])\n",
            "/usr/local/lib/python3.6/dist-packages/tensorflow/python/framework/dtypes.py:519: FutureWarning: Passing (type, 1) or '1type' as a synonym of type is deprecated; in a future version of numpy, it will be understood as (type, (1,)) / '(1,)type'.\n",
            "  _np_qint16 = np.dtype([(\"qint16\", np.int16, 1)])\n",
            "/usr/local/lib/python3.6/dist-packages/tensorflow/python/framework/dtypes.py:520: FutureWarning: Passing (type, 1) or '1type' as a synonym of type is deprecated; in a future version of numpy, it will be understood as (type, (1,)) / '(1,)type'.\n",
            "  _np_quint16 = np.dtype([(\"quint16\", np.uint16, 1)])\n",
            "/usr/local/lib/python3.6/dist-packages/tensorflow/python/framework/dtypes.py:521: FutureWarning: Passing (type, 1) or '1type' as a synonym of type is deprecated; in a future version of numpy, it will be understood as (type, (1,)) / '(1,)type'.\n",
            "  _np_qint32 = np.dtype([(\"qint32\", np.int32, 1)])\n",
            "/usr/local/lib/python3.6/dist-packages/tensorflow/python/framework/dtypes.py:526: FutureWarning: Passing (type, 1) or '1type' as a synonym of type is deprecated; in a future version of numpy, it will be understood as (type, (1,)) / '(1,)type'.\n",
            "  np_resource = np.dtype([(\"resource\", np.ubyte, 1)])\n",
            "INFO:tensorflow:Looking for images in 'animal_damage'\n",
            "WARNING:tensorflow:WARNING: Folder has less than 20 images, which may cause issues.\n",
            "INFO:tensorflow:Looking for images in 'burnt'\n",
            "WARNING:tensorflow:WARNING: Folder has less than 20 images, which may cause issues.\n",
            "INFO:tensorflow:Looking for images in 'insect_damage'\n",
            "WARNING:tensorflow:WARNING: Folder has less than 20 images, which may cause issues.\n",
            "INFO:tensorflow:Looking for images in 'spalling'\n",
            "WARNING:tensorflow:WARNING: Folder has less than 20 images, which may cause issues.\n",
            "INFO:tensorflow:Looking for images in 'water_damage'\n",
            "WARNING:tensorflow:WARNING: Folder has less than 20 images, which may cause issues.\n",
            "INFO:tensorflow:Looking for images in 'weathered'\n",
            "WARNING:tensorflow:No files found\n",
            "2021-02-19 17:57:00.172592: I tensorflow/core/platform/cpu_feature_guard.cc:140] Your CPU supports instructions that this TensorFlow binary was not compiled to use: AVX2 FMA\n",
            "WARNING:tensorflow:From /content/image-classifier/scripts/retrain.py:790: softmax_cross_entropy_with_logits (from tensorflow.python.ops.nn_ops) is deprecated and will be removed in a future version.\n",
            "Instructions for updating:\n",
            "\n",
            "Future major versions of TensorFlow will allow gradients to flow\n",
            "into the labels input on backprop by default.\n",
            "\n",
            "See tf.nn.softmax_cross_entropy_with_logits_v2.\n",
            "\n",
            "INFO:tensorflow:2021-02-19 17:57:00.619002: Step 0: Train accuracy = 74.0%\n",
            "INFO:tensorflow:2021-02-19 17:57:00.619322: Step 0: Cross entropy = 0.611301\n",
            "INFO:tensorflow:2021-02-19 17:57:00.683580: Step 0: Validation accuracy = 100.0% (N=1)\n",
            "INFO:tensorflow:2021-02-19 17:57:01.073186: Step 10: Train accuracy = 100.0%\n",
            "INFO:tensorflow:2021-02-19 17:57:01.073408: Step 10: Cross entropy = 0.024241\n",
            "INFO:tensorflow:2021-02-19 17:57:01.075102: Step 10: Validation accuracy = 100.0% (N=1)\n",
            "INFO:tensorflow:2021-02-19 17:57:01.455737: Step 20: Train accuracy = 100.0%\n",
            "INFO:tensorflow:2021-02-19 17:57:01.455943: Step 20: Cross entropy = 0.009969\n",
            "INFO:tensorflow:2021-02-19 17:57:01.457844: Step 20: Validation accuracy = 100.0% (N=1)\n",
            "INFO:tensorflow:2021-02-19 17:57:01.844491: Step 30: Train accuracy = 100.0%\n",
            "INFO:tensorflow:2021-02-19 17:57:01.844698: Step 30: Cross entropy = 0.008991\n",
            "INFO:tensorflow:2021-02-19 17:57:01.846533: Step 30: Validation accuracy = 100.0% (N=1)\n",
            "INFO:tensorflow:2021-02-19 17:57:02.237742: Step 40: Train accuracy = 100.0%\n",
            "INFO:tensorflow:2021-02-19 17:57:02.237959: Step 40: Cross entropy = 0.006577\n",
            "INFO:tensorflow:2021-02-19 17:57:02.239691: Step 40: Validation accuracy = 100.0% (N=1)\n",
            "INFO:tensorflow:2021-02-19 17:57:02.659062: Step 50: Train accuracy = 100.0%\n",
            "INFO:tensorflow:2021-02-19 17:57:02.659284: Step 50: Cross entropy = 0.005064\n",
            "INFO:tensorflow:2021-02-19 17:57:02.661088: Step 50: Validation accuracy = 100.0% (N=1)\n",
            "INFO:tensorflow:2021-02-19 17:57:03.037335: Step 60: Train accuracy = 100.0%\n",
            "INFO:tensorflow:2021-02-19 17:57:03.037564: Step 60: Cross entropy = 0.004584\n",
            "INFO:tensorflow:2021-02-19 17:57:03.039230: Step 60: Validation accuracy = 100.0% (N=1)\n",
            "INFO:tensorflow:2021-02-19 17:57:03.414562: Step 70: Train accuracy = 100.0%\n",
            "INFO:tensorflow:2021-02-19 17:57:03.414835: Step 70: Cross entropy = 0.005458\n",
            "INFO:tensorflow:2021-02-19 17:57:03.417059: Step 70: Validation accuracy = 100.0% (N=1)\n",
            "INFO:tensorflow:2021-02-19 17:57:03.802600: Step 80: Train accuracy = 100.0%\n",
            "INFO:tensorflow:2021-02-19 17:57:03.802806: Step 80: Cross entropy = 0.003358\n",
            "INFO:tensorflow:2021-02-19 17:57:03.804618: Step 80: Validation accuracy = 100.0% (N=1)\n",
            "INFO:tensorflow:2021-02-19 17:57:04.179557: Step 90: Train accuracy = 100.0%\n",
            "INFO:tensorflow:2021-02-19 17:57:04.179812: Step 90: Cross entropy = 0.004324\n",
            "INFO:tensorflow:2021-02-19 17:57:04.182085: Step 90: Validation accuracy = 100.0% (N=1)\n",
            "INFO:tensorflow:2021-02-19 17:57:04.554093: Step 100: Train accuracy = 100.0%\n",
            "INFO:tensorflow:2021-02-19 17:57:04.554302: Step 100: Cross entropy = 0.003359\n",
            "INFO:tensorflow:2021-02-19 17:57:04.555954: Step 100: Validation accuracy = 100.0% (N=1)\n",
            "INFO:tensorflow:2021-02-19 17:57:04.954321: Step 110: Train accuracy = 100.0%\n",
            "INFO:tensorflow:2021-02-19 17:57:04.954560: Step 110: Cross entropy = 0.003019\n",
            "INFO:tensorflow:2021-02-19 17:57:04.956465: Step 110: Validation accuracy = 100.0% (N=1)\n",
            "INFO:tensorflow:2021-02-19 17:57:05.348748: Step 120: Train accuracy = 100.0%\n",
            "INFO:tensorflow:2021-02-19 17:57:05.348983: Step 120: Cross entropy = 0.003125\n",
            "INFO:tensorflow:2021-02-19 17:57:05.350774: Step 120: Validation accuracy = 100.0% (N=1)\n",
            "INFO:tensorflow:2021-02-19 17:57:05.733106: Step 130: Train accuracy = 100.0%\n",
            "INFO:tensorflow:2021-02-19 17:57:05.733312: Step 130: Cross entropy = 0.002551\n",
            "INFO:tensorflow:2021-02-19 17:57:05.735069: Step 130: Validation accuracy = 100.0% (N=1)\n",
            "INFO:tensorflow:2021-02-19 17:57:06.113980: Step 140: Train accuracy = 100.0%\n",
            "INFO:tensorflow:2021-02-19 17:57:06.114193: Step 140: Cross entropy = 0.003091\n",
            "INFO:tensorflow:2021-02-19 17:57:06.115912: Step 140: Validation accuracy = 100.0% (N=1)\n",
            "INFO:tensorflow:2021-02-19 17:57:06.486960: Step 150: Train accuracy = 100.0%\n",
            "INFO:tensorflow:2021-02-19 17:57:06.487165: Step 150: Cross entropy = 0.002545\n",
            "INFO:tensorflow:2021-02-19 17:57:06.488911: Step 150: Validation accuracy = 100.0% (N=1)\n",
            "INFO:tensorflow:2021-02-19 17:57:06.896594: Step 160: Train accuracy = 100.0%\n",
            "INFO:tensorflow:2021-02-19 17:57:06.896804: Step 160: Cross entropy = 0.002474\n",
            "INFO:tensorflow:2021-02-19 17:57:06.898621: Step 160: Validation accuracy = 100.0% (N=1)\n",
            "INFO:tensorflow:2021-02-19 17:57:07.273245: Step 170: Train accuracy = 100.0%\n",
            "INFO:tensorflow:2021-02-19 17:57:07.273475: Step 170: Cross entropy = 0.002387\n",
            "INFO:tensorflow:2021-02-19 17:57:07.275165: Step 170: Validation accuracy = 100.0% (N=1)\n",
            "INFO:tensorflow:2021-02-19 17:57:07.655770: Step 180: Train accuracy = 100.0%\n",
            "INFO:tensorflow:2021-02-19 17:57:07.655976: Step 180: Cross entropy = 0.002483\n",
            "INFO:tensorflow:2021-02-19 17:57:07.657760: Step 180: Validation accuracy = 100.0% (N=1)\n",
            "INFO:tensorflow:2021-02-19 17:57:08.039757: Step 190: Train accuracy = 100.0%\n",
            "INFO:tensorflow:2021-02-19 17:57:08.039995: Step 190: Cross entropy = 0.001927\n",
            "INFO:tensorflow:2021-02-19 17:57:08.041849: Step 190: Validation accuracy = 100.0% (N=1)\n",
            "INFO:tensorflow:2021-02-19 17:57:08.420177: Step 200: Train accuracy = 100.0%\n",
            "INFO:tensorflow:2021-02-19 17:57:08.420418: Step 200: Cross entropy = 0.002008\n",
            "INFO:tensorflow:2021-02-19 17:57:08.422190: Step 200: Validation accuracy = 100.0% (N=1)\n",
            "INFO:tensorflow:2021-02-19 17:57:08.806354: Step 210: Train accuracy = 100.0%\n",
            "INFO:tensorflow:2021-02-19 17:57:08.806582: Step 210: Cross entropy = 0.002203\n",
            "INFO:tensorflow:2021-02-19 17:57:08.808299: Step 210: Validation accuracy = 100.0% (N=1)\n",
            "INFO:tensorflow:2021-02-19 17:57:09.197247: Step 220: Train accuracy = 100.0%\n",
            "INFO:tensorflow:2021-02-19 17:57:09.197475: Step 220: Cross entropy = 0.001412\n",
            "INFO:tensorflow:2021-02-19 17:57:09.199248: Step 220: Validation accuracy = 100.0% (N=1)\n",
            "INFO:tensorflow:2021-02-19 17:57:09.575662: Step 230: Train accuracy = 100.0%\n",
            "INFO:tensorflow:2021-02-19 17:57:09.575887: Step 230: Cross entropy = 0.001557\n",
            "INFO:tensorflow:2021-02-19 17:57:09.577703: Step 230: Validation accuracy = 100.0% (N=1)\n",
            "INFO:tensorflow:2021-02-19 17:57:09.974805: Step 240: Train accuracy = 100.0%\n",
            "INFO:tensorflow:2021-02-19 17:57:09.975057: Step 240: Cross entropy = 0.001887\n",
            "INFO:tensorflow:2021-02-19 17:57:09.976866: Step 240: Validation accuracy = 100.0% (N=1)\n",
            "INFO:tensorflow:2021-02-19 17:57:10.350575: Step 250: Train accuracy = 100.0%\n",
            "INFO:tensorflow:2021-02-19 17:57:10.350777: Step 250: Cross entropy = 0.001875\n",
            "INFO:tensorflow:2021-02-19 17:57:10.352512: Step 250: Validation accuracy = 100.0% (N=1)\n",
            "INFO:tensorflow:2021-02-19 17:57:10.727963: Step 260: Train accuracy = 100.0%\n",
            "INFO:tensorflow:2021-02-19 17:57:10.728170: Step 260: Cross entropy = 0.001603\n",
            "INFO:tensorflow:2021-02-19 17:57:10.729921: Step 260: Validation accuracy = 100.0% (N=1)\n",
            "INFO:tensorflow:2021-02-19 17:57:11.125802: Step 270: Train accuracy = 100.0%\n",
            "INFO:tensorflow:2021-02-19 17:57:11.126067: Step 270: Cross entropy = 0.001474\n",
            "INFO:tensorflow:2021-02-19 17:57:11.127848: Step 270: Validation accuracy = 100.0% (N=1)\n",
            "INFO:tensorflow:2021-02-19 17:57:11.507211: Step 280: Train accuracy = 100.0%\n",
            "INFO:tensorflow:2021-02-19 17:57:11.507423: Step 280: Cross entropy = 0.001668\n",
            "INFO:tensorflow:2021-02-19 17:57:11.509101: Step 280: Validation accuracy = 100.0% (N=1)\n",
            "INFO:tensorflow:2021-02-19 17:57:11.894654: Step 290: Train accuracy = 100.0%\n",
            "INFO:tensorflow:2021-02-19 17:57:11.894884: Step 290: Cross entropy = 0.001416\n",
            "INFO:tensorflow:2021-02-19 17:57:11.896771: Step 290: Validation accuracy = 100.0% (N=1)\n",
            "INFO:tensorflow:2021-02-19 17:57:12.277957: Step 300: Train accuracy = 100.0%\n",
            "INFO:tensorflow:2021-02-19 17:57:12.278159: Step 300: Cross entropy = 0.001658\n",
            "INFO:tensorflow:2021-02-19 17:57:12.279936: Step 300: Validation accuracy = 100.0% (N=1)\n",
            "INFO:tensorflow:2021-02-19 17:57:12.651156: Step 310: Train accuracy = 100.0%\n",
            "INFO:tensorflow:2021-02-19 17:57:12.651352: Step 310: Cross entropy = 0.001555\n",
            "INFO:tensorflow:2021-02-19 17:57:12.653026: Step 310: Validation accuracy = 100.0% (N=1)\n",
            "INFO:tensorflow:2021-02-19 17:57:13.045016: Step 320: Train accuracy = 100.0%\n",
            "INFO:tensorflow:2021-02-19 17:57:13.045220: Step 320: Cross entropy = 0.001348\n",
            "INFO:tensorflow:2021-02-19 17:57:13.046979: Step 320: Validation accuracy = 100.0% (N=1)\n",
            "INFO:tensorflow:2021-02-19 17:57:13.436307: Step 330: Train accuracy = 100.0%\n",
            "INFO:tensorflow:2021-02-19 17:57:13.436536: Step 330: Cross entropy = 0.001394\n",
            "INFO:tensorflow:2021-02-19 17:57:13.438269: Step 330: Validation accuracy = 100.0% (N=1)\n",
            "INFO:tensorflow:2021-02-19 17:57:13.820861: Step 340: Train accuracy = 100.0%\n",
            "INFO:tensorflow:2021-02-19 17:57:13.821074: Step 340: Cross entropy = 0.001270\n",
            "INFO:tensorflow:2021-02-19 17:57:13.822870: Step 340: Validation accuracy = 100.0% (N=1)\n",
            "INFO:tensorflow:2021-02-19 17:57:14.200409: Step 350: Train accuracy = 100.0%\n",
            "INFO:tensorflow:2021-02-19 17:57:14.200655: Step 350: Cross entropy = 0.001229\n",
            "INFO:tensorflow:2021-02-19 17:57:14.202425: Step 350: Validation accuracy = 100.0% (N=1)\n",
            "INFO:tensorflow:2021-02-19 17:57:14.576291: Step 360: Train accuracy = 100.0%\n",
            "INFO:tensorflow:2021-02-19 17:57:14.576513: Step 360: Cross entropy = 0.001156\n",
            "INFO:tensorflow:2021-02-19 17:57:14.578181: Step 360: Validation accuracy = 100.0% (N=1)\n",
            "INFO:tensorflow:2021-02-19 17:57:14.964148: Step 370: Train accuracy = 100.0%\n",
            "INFO:tensorflow:2021-02-19 17:57:14.964365: Step 370: Cross entropy = 0.001472\n",
            "INFO:tensorflow:2021-02-19 17:57:14.966119: Step 370: Validation accuracy = 100.0% (N=1)\n",
            "INFO:tensorflow:2021-02-19 17:57:15.343194: Step 380: Train accuracy = 100.0%\n",
            "INFO:tensorflow:2021-02-19 17:57:15.343425: Step 380: Cross entropy = 0.001055\n",
            "INFO:tensorflow:2021-02-19 17:57:15.345123: Step 380: Validation accuracy = 100.0% (N=1)\n",
            "INFO:tensorflow:2021-02-19 17:57:15.736467: Step 390: Train accuracy = 100.0%\n",
            "INFO:tensorflow:2021-02-19 17:57:15.736671: Step 390: Cross entropy = 0.001260\n",
            "INFO:tensorflow:2021-02-19 17:57:15.739035: Step 390: Validation accuracy = 100.0% (N=1)\n",
            "INFO:tensorflow:2021-02-19 17:57:16.123048: Step 400: Train accuracy = 100.0%\n",
            "INFO:tensorflow:2021-02-19 17:57:16.123308: Step 400: Cross entropy = 0.001018\n",
            "INFO:tensorflow:2021-02-19 17:57:16.125069: Step 400: Validation accuracy = 100.0% (N=1)\n",
            "INFO:tensorflow:2021-02-19 17:57:16.502332: Step 410: Train accuracy = 100.0%\n",
            "INFO:tensorflow:2021-02-19 17:57:16.502576: Step 410: Cross entropy = 0.001218\n",
            "INFO:tensorflow:2021-02-19 17:57:16.504413: Step 410: Validation accuracy = 100.0% (N=1)\n",
            "INFO:tensorflow:2021-02-19 17:57:16.909059: Step 420: Train accuracy = 100.0%\n",
            "INFO:tensorflow:2021-02-19 17:57:16.909270: Step 420: Cross entropy = 0.001172\n",
            "INFO:tensorflow:2021-02-19 17:57:16.911204: Step 420: Validation accuracy = 100.0% (N=1)\n",
            "INFO:tensorflow:2021-02-19 17:57:17.291037: Step 430: Train accuracy = 100.0%\n",
            "INFO:tensorflow:2021-02-19 17:57:17.291245: Step 430: Cross entropy = 0.001071\n",
            "INFO:tensorflow:2021-02-19 17:57:17.293083: Step 430: Validation accuracy = 100.0% (N=1)\n",
            "INFO:tensorflow:2021-02-19 17:57:17.677672: Step 440: Train accuracy = 100.0%\n",
            "INFO:tensorflow:2021-02-19 17:57:17.677877: Step 440: Cross entropy = 0.001140\n",
            "INFO:tensorflow:2021-02-19 17:57:17.679610: Step 440: Validation accuracy = 100.0% (N=1)\n",
            "INFO:tensorflow:2021-02-19 17:57:18.070430: Step 450: Train accuracy = 100.0%\n",
            "INFO:tensorflow:2021-02-19 17:57:18.070637: Step 450: Cross entropy = 0.001025\n",
            "INFO:tensorflow:2021-02-19 17:57:18.072336: Step 450: Validation accuracy = 100.0% (N=1)\n",
            "INFO:tensorflow:2021-02-19 17:57:18.452366: Step 460: Train accuracy = 100.0%\n",
            "INFO:tensorflow:2021-02-19 17:57:18.452609: Step 460: Cross entropy = 0.001070\n",
            "INFO:tensorflow:2021-02-19 17:57:18.454459: Step 460: Validation accuracy = 100.0% (N=1)\n",
            "INFO:tensorflow:2021-02-19 17:57:18.840936: Step 470: Train accuracy = 100.0%\n",
            "INFO:tensorflow:2021-02-19 17:57:18.841156: Step 470: Cross entropy = 0.001056\n",
            "INFO:tensorflow:2021-02-19 17:57:18.842933: Step 470: Validation accuracy = 100.0% (N=1)\n",
            "INFO:tensorflow:2021-02-19 17:57:19.232065: Step 480: Train accuracy = 100.0%\n",
            "INFO:tensorflow:2021-02-19 17:57:19.232269: Step 480: Cross entropy = 0.001222\n",
            "INFO:tensorflow:2021-02-19 17:57:19.234056: Step 480: Validation accuracy = 100.0% (N=1)\n",
            "INFO:tensorflow:2021-02-19 17:57:19.610505: Step 490: Train accuracy = 100.0%\n",
            "INFO:tensorflow:2021-02-19 17:57:19.610714: Step 490: Cross entropy = 0.001082\n",
            "INFO:tensorflow:2021-02-19 17:57:19.612476: Step 490: Validation accuracy = 100.0% (N=1)\n",
            "INFO:tensorflow:2021-02-19 17:57:19.988340: Step 499: Train accuracy = 100.0%\n",
            "INFO:tensorflow:2021-02-19 17:57:19.988561: Step 499: Cross entropy = 0.000938\n",
            "INFO:tensorflow:2021-02-19 17:57:19.990434: Step 499: Validation accuracy = 100.0% (N=1)\n",
            "INFO:tensorflow:Final test accuracy = 66.7% (N=6)\n",
            "INFO:tensorflow:Froze 2 variables.\n",
            "Converted 2 variables to const ops.\n"
          ],
          "name": "stdout"
        }
      ]
    },
    {
      "cell_type": "code",
      "metadata": {
        "id": "flq14qClS6-C",
        "colab": {
          "base_uri": "https://localhost:8080/"
        },
        "outputId": "7d7dfc8c-37c1-4955-a863-1c286e41343f"
      },
      "source": [
        "# now let's test this image: https://858475.smushcdn.com/1867527/wp-content/uploads/2019/07/Main-Photo-of-Skull-640-X-360.jpg\n",
        "\n",
        "!python -m scripts.label_image \\\n",
        "    --graph=taph/retrained_graph.pb  \\\n",
        "    --labels=taph/retrained_labels.txt \\\n",
        "    --image=tf_files/testing/aptn-detail.jpg"
      ],
      "execution_count": 15,
      "outputs": [
        {
          "output_type": "stream",
          "text": [
            "/usr/local/lib/python3.6/dist-packages/tensorflow/python/framework/dtypes.py:517: FutureWarning: Passing (type, 1) or '1type' as a synonym of type is deprecated; in a future version of numpy, it will be understood as (type, (1,)) / '(1,)type'.\n",
            "  _np_qint8 = np.dtype([(\"qint8\", np.int8, 1)])\n",
            "/usr/local/lib/python3.6/dist-packages/tensorflow/python/framework/dtypes.py:518: FutureWarning: Passing (type, 1) or '1type' as a synonym of type is deprecated; in a future version of numpy, it will be understood as (type, (1,)) / '(1,)type'.\n",
            "  _np_quint8 = np.dtype([(\"quint8\", np.uint8, 1)])\n",
            "/usr/local/lib/python3.6/dist-packages/tensorflow/python/framework/dtypes.py:519: FutureWarning: Passing (type, 1) or '1type' as a synonym of type is deprecated; in a future version of numpy, it will be understood as (type, (1,)) / '(1,)type'.\n",
            "  _np_qint16 = np.dtype([(\"qint16\", np.int16, 1)])\n",
            "/usr/local/lib/python3.6/dist-packages/tensorflow/python/framework/dtypes.py:520: FutureWarning: Passing (type, 1) or '1type' as a synonym of type is deprecated; in a future version of numpy, it will be understood as (type, (1,)) / '(1,)type'.\n",
            "  _np_quint16 = np.dtype([(\"quint16\", np.uint16, 1)])\n",
            "/usr/local/lib/python3.6/dist-packages/tensorflow/python/framework/dtypes.py:521: FutureWarning: Passing (type, 1) or '1type' as a synonym of type is deprecated; in a future version of numpy, it will be understood as (type, (1,)) / '(1,)type'.\n",
            "  _np_qint32 = np.dtype([(\"qint32\", np.int32, 1)])\n",
            "/usr/local/lib/python3.6/dist-packages/tensorflow/python/framework/dtypes.py:526: FutureWarning: Passing (type, 1) or '1type' as a synonym of type is deprecated; in a future version of numpy, it will be understood as (type, (1,)) / '(1,)type'.\n",
            "  np_resource = np.dtype([(\"resource\", np.ubyte, 1)])\n",
            "2021-02-19 18:11:02.838224: I tensorflow/core/platform/cpu_feature_guard.cc:140] Your CPU supports instructions that this TensorFlow binary was not compiled to use: AVX2 FMA\n",
            "\n",
            "Evaluation time (1-image): 0.119s\n",
            "\n",
            "animal damage (score=0.99596)\n",
            "insect damage (score=0.00280)\n",
            "water damage (score=0.00055)\n",
            "spalling (score=0.00047)\n",
            "burnt (score=0.00022)\n"
          ],
          "name": "stdout"
        }
      ]
    }
  ]
}